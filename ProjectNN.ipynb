{
 "cells": [
  {
   "cell_type": "code",
   "execution_count": 11,
   "metadata": {},
   "outputs": [],
   "source": [
    "import cv2\n",
    "import numpy as np\n",
    "import os\n",
    "from random import shuffle\n",
    "import pandas as pd\n",
    "from tqdm import tqdm\n",
    "import tensorflow as tf\n",
    "from tensorflow.python.framework import ops\n",
    "import matplotlib.pyplot as plt\n",
    "import tflearn\n",
    "from sklearn.model_selection import train_test_split\n",
    "from tflearn.layers.conv import conv_2d, max_pool_2d\n",
    "from tflearn.layers.core import input_data, dropout, fully_connected\n",
    "from tflearn.layers.estimator import regression\n",
    "from sklearn import metrics\n",
    "from sklearn.preprocessing import LabelEncoder\n",
    "from sklearn.metrics import accuracy_score\n",
    "from sklearn.metrics import plot_confusion_matrix\n",
    "from sklearn.metrics import multilabel_confusion_matrix\n"
   ]
  },
  {
   "cell_type": "code",
   "execution_count": 12,
   "metadata": {},
   "outputs": [],
   "source": [
    "TRAIN_DIR = 'Train'\n",
    "IMG_SIZE = 224\n",
    "LR = 0.001\n",
    "MODEL_NAME = 'Sports-Image'"
   ]
  },
  {
   "cell_type": "code",
   "execution_count": 13,
   "metadata": {},
   "outputs": [],
   "source": [
    "def create_label(image_name):\n",
    "    \"\"\" Create one-hot encoded vector from image name \"\"\"\n",
    "    word_label = image_name.split('_')[-2]\n",
    "    if word_label == 'Basketball':\n",
    "        return np.array([1,0,0,0,0,0])\n",
    "    elif word_label == 'Football':\n",
    "        return np.array([0,1,0,0,0,0])\n",
    "    elif word_label == 'Rowing':\n",
    "        return np.array([0,0,1,0,0,0])\n",
    "    elif word_label == 'Swimming':\n",
    "        return np.array([0,0,0,1,0,0])\n",
    "    elif word_label == 'Tennis':\n",
    "        return np.array([0,0,0,0,1,0])\n",
    "    elif word_label == 'Yoga':\n",
    "        return np.array([0,0,0,0,0,1])\n",
    "    else:\n",
    "        return None\n"
   ]
  },
  {
   "cell_type": "code",
   "execution_count": 14,
   "metadata": {},
   "outputs": [],
   "source": [
    "images=[]\n",
    "labels=[]\n",
    "for i in os.listdir('C:/Users/Hp/Documents/fourth/first/DEEPLR/NNProj/jub/Train/'):\n",
    "\n",
    "    img = cv2.imread('C:/Users/Hp/Documents/fourth/first/DEEPLR/NNProj/jub/Train/'+i)\n",
    "    if img.all==None:\n",
    "        continue\n",
    "    img = cv2.resize(img, (IMG_SIZE,IMG_SIZE))\n",
    "    label=create_label(i)\n",
    "    if label.all ==None:\n",
    "        continue\n",
    "\n",
    "    labels.append(label)\n",
    "    images.append(img)\n",
    "x = np.array(images)\n",
    "y = np.array(labels)\n"
   ]
  },
  {
   "cell_type": "code",
   "execution_count": 15,
   "metadata": {},
   "outputs": [],
   "source": [
    "x_train, x_val, y_train, y_val = train_test_split(x, y,\n",
    "    test_size=0.2, shuffle = True, random_state = 8)\n",
    "\n",
    "#x_train, x_val, y_train, y_val = train_test_split(x_train, y_train, \n",
    " #   test_size=0.25, random_state= 8) # 0.25 x 0.8 = 0.2\n",
    "\n",
    "\n",
    "##normlization\n",
    "x_train = x_train/255\n",
    "\n",
    "x_val=x_val/255\n"
   ]
  },
  {
   "cell_type": "code",
   "execution_count": 16,
   "metadata": {},
   "outputs": [],
   "source": [
    "ops.reset_default_graph()\n",
    "conv_input = input_data(shape=[None, IMG_SIZE, IMG_SIZE, 3], name='input')\n",
    "conv1 = conv_2d(conv_input, 32, 5, activation='relu')\n",
    "pool1 = max_pool_2d(conv1, 5)\n",
    "\n",
    "conv2 = conv_2d(pool1, 64, 5, activation='relu')\n",
    "pool2 = max_pool_2d(conv2, 5)\n",
    "\n",
    "conv3 = conv_2d(pool2, 128, 5, activation='relu')\n",
    "pool3 = max_pool_2d(conv3, 5)\n",
    "\n",
    "conv4 = conv_2d(pool3, 64, 5, activation='relu')\n",
    "pool4 = max_pool_2d(conv4, 5)\n",
    "\n",
    "conv5 = conv_2d(pool4, 32, 5, activation='relu')\n",
    "pool5 = max_pool_2d(conv5, 5)\n",
    "fully_layer = fully_connected(pool5, 1024, activation='relu')\n",
    "fully_layer = dropout(fully_layer, 0.5)\n",
    "\n",
    "cnn_layers = fully_connected(fully_layer, 6, activation='softmax')\n",
    "\n",
    "cnn_layers = regression(cnn_layers, optimizer='adam', learning_rate=LR, loss='categorical_crossentropy', name='targets')\n",
    "model = tflearn.DNN(cnn_layers, tensorboard_dir='log', tensorboard_verbose=3)"
   ]
  },
  {
   "cell_type": "code",
   "execution_count": 8,
   "metadata": {},
   "outputs": [
    {
     "name": "stdout",
     "output_type": "stream",
     "text": [
      "INFO:tensorflow:Restoring parameters from C:\\Users\\Hp\\Documents\\fourth\\first\\DEEPLR\\NNProj\\jub\\model.tfl\n"
     ]
    }
   ],
   "source": [
    "if (os.path.exists('model.tfl.meta')):\n",
    "    model.load('./model.tfl')\n",
    "else:\n",
    "    model.fit({'input': x_train}, {'targets': y_train}, n_epoch=100,\n",
    "          validation_set=({'input': x_val}, {'targets': y_val}),\n",
    "          snapshot_step=500, show_metric=True, run_id=MODEL_NAME)\n",
    "    model.save('model.tfl')\n",
    "\n",
    "\n"
   ]
  },
  {
   "cell_type": "code",
   "execution_count": 19,
   "metadata": {},
   "outputs": [],
   "source": [
    "test_data = []\n",
    "\n",
    "for path in os.listdir('C:/Users/Hp/Documents/fourth/first/DEEPLR/NNProj/jub/Test/'):\n",
    "    \n",
    "    \n",
    "    img = cv2.imread('C:/Users/Hp/Documents/fourth/first/DEEPLR/NNProj/jub/Test/'+path)\n",
    "    if img.all==None:\n",
    "        \n",
    "        \n",
    "        continue\n",
    "    img = cv2.resize(img, (IMG_SIZE,IMG_SIZE))\n",
    "    #img = img.reshape(244, 244, 1)\n",
    "    prediction = model.predict([img])[0]\n",
    "    \n",
    "    max =0\n",
    "    x = 0\n",
    "    index = 0\n",
    "    for i in  range(len(prediction)):\n",
    "        if prediction[i] >max:\n",
    "            max=prediction[i]\n",
    "            index=x\n",
    "            \n",
    "                \n",
    "        x+=1\n",
    "        \n",
    "        \n",
    "    test_data.append([path,index])\n",
    "\n",
    "        \n",
    "\n",
    "import pandas as pd\n",
    "df = pd.DataFrame(data=test_data,columns=['image_name','label'])\n",
    "\n",
    "df.to_csv('Test.csv',index=False)\n",
    "    "
   ]
  },
  {
   "cell_type": "code",
   "execution_count": 20,
   "metadata": {},
   "outputs": [
    {
     "name": "stdout",
     "output_type": "stream",
     "text": [
      "688\n"
     ]
    }
   ],
   "source": [
    "   print(len(test_data))"
   ]
  }
 ],
 "metadata": {
  "kernelspec": {
   "display_name": "Python 3",
   "language": "python",
   "name": "python3"
  },
  "language_info": {
   "codemirror_mode": {
    "name": "ipython",
    "version": 3
   },
   "file_extension": ".py",
   "mimetype": "text/x-python",
   "name": "python",
   "nbconvert_exporter": "python",
   "pygments_lexer": "ipython3",
   "version": "3.8.8"
  },
  "vscode": {
   "interpreter": {
    "hash": "b683bd4b87c8b16609ac9a3ef3aab015b96a8503b853fa71d3fe1e7ebcd29d95"
   }
  }
 },
 "nbformat": 4,
 "nbformat_minor": 2
}
